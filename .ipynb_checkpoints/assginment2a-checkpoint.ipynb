{
 "cells": [
  {
   "cell_type": "markdown",
   "metadata": {},
   "source": [
    "Define a recursive function to make a list of all possible nucleotide combinations for an arbitrary length. (c.f. chapter 2 in __Advanced Python For Biologists__ by Martin Jones (2014))."
   ]
  },
  {
   "cell_type": "code",
   "execution_count": 1,
   "metadata": {
    "collapsed": true
   },
   "outputs": [],
   "source": [
    "def make_nucleotide_combos(length):\n",
    "    if length == 1:\n",
    "        return ['A', 'T', 'G', 'C']\n",
    "    else:\n",
    "        combos = []\n",
    "        for sequence in make_nucleotide_combos(length -1):\n",
    "            for base in ['A', 'T', 'G', 'C']:\n",
    "                combos.append(sequence + base)\n",
    "        return combos"
   ]
  },
  {
   "cell_type": "markdown",
   "metadata": {},
   "source": [
    "List di-nucleotides."
   ]
  },
  {
   "cell_type": "code",
   "execution_count": 2,
   "metadata": {
    "collapsed": false
   },
   "outputs": [
    {
     "data": {
      "text/plain": [
       "['AA',\n",
       " 'AT',\n",
       " 'AG',\n",
       " 'AC',\n",
       " 'TA',\n",
       " 'TT',\n",
       " 'TG',\n",
       " 'TC',\n",
       " 'GA',\n",
       " 'GT',\n",
       " 'GG',\n",
       " 'GC',\n",
       " 'CA',\n",
       " 'CT',\n",
       " 'CG',\n",
       " 'CC']"
      ]
     },
     "execution_count": 2,
     "metadata": {},
     "output_type": "execute_result"
    }
   ],
   "source": [
    "make_nucleotide_combos(2)"
   ]
  },
  {
   "cell_type": "markdown",
   "metadata": {},
   "source": [
    "Make codon list."
   ]
  },
  {
   "cell_type": "code",
   "execution_count": 4,
   "metadata": {
    "collapsed": false
   },
   "outputs": [
    {
     "data": {
      "text/plain": [
       "['AAA',\n",
       " 'AAT',\n",
       " 'AAG',\n",
       " 'AAC',\n",
       " 'ATA',\n",
       " 'ATT',\n",
       " 'ATG',\n",
       " 'ATC',\n",
       " 'AGA',\n",
       " 'AGT',\n",
       " 'AGG',\n",
       " 'AGC',\n",
       " 'ACA',\n",
       " 'ACT',\n",
       " 'ACG',\n",
       " 'ACC',\n",
       " 'TAA',\n",
       " 'TAT',\n",
       " 'TAG',\n",
       " 'TAC',\n",
       " 'TTA',\n",
       " 'TTT',\n",
       " 'TTG',\n",
       " 'TTC',\n",
       " 'TGA',\n",
       " 'TGT',\n",
       " 'TGG',\n",
       " 'TGC',\n",
       " 'TCA',\n",
       " 'TCT',\n",
       " 'TCG',\n",
       " 'TCC',\n",
       " 'GAA',\n",
       " 'GAT',\n",
       " 'GAG',\n",
       " 'GAC',\n",
       " 'GTA',\n",
       " 'GTT',\n",
       " 'GTG',\n",
       " 'GTC',\n",
       " 'GGA',\n",
       " 'GGT',\n",
       " 'GGG',\n",
       " 'GGC',\n",
       " 'GCA',\n",
       " 'GCT',\n",
       " 'GCG',\n",
       " 'GCC',\n",
       " 'CAA',\n",
       " 'CAT',\n",
       " 'CAG',\n",
       " 'CAC',\n",
       " 'CTA',\n",
       " 'CTT',\n",
       " 'CTG',\n",
       " 'CTC',\n",
       " 'CGA',\n",
       " 'CGT',\n",
       " 'CGG',\n",
       " 'CGC',\n",
       " 'CCA',\n",
       " 'CCT',\n",
       " 'CCG',\n",
       " 'CCC']"
      ]
     },
     "execution_count": 4,
     "metadata": {},
     "output_type": "execute_result"
    }
   ],
   "source": [
    "make_nucleotide_combos(3)"
   ]
  },
  {
   "cell_type": "code",
   "execution_count": 5,
   "metadata": {
    "collapsed": false
   },
   "outputs": [
    {
     "data": {
      "text/plain": [
       "64"
      ]
     },
     "execution_count": 5,
     "metadata": {},
     "output_type": "execute_result"
    }
   ],
   "source": [
    "len(make_nucleotide_combos(3))"
   ]
  },
  {
   "cell_type": "markdown",
   "metadata": {},
   "source": [
    "Read in the DNA sequence"
   ]
  },
  {
   "cell_type": "code",
   "execution_count": 23,
   "metadata": {
    "collapsed": false
   },
   "outputs": [
    {
     "name": "stdout",
     "output_type": "stream",
     "text": [
      "AATTCGAAGACATAATATTTTTCCATTACCTCTAAAATTATGTTTTAAGAAAGGCTTTATATAGCAAGAATCACCGGGGTATAATTTCTCTTTTCCGTTTTCAAAATTAATTGCTAATTCCGAATCACCTATATTATAAATATACTGATGTAAGCCAATATTTTGATCATAGTCTTCATGATCAGATTCAGAAAAAACTGATATTTCTAAACTTCTTGCATAAGGAAGAGTAGAAGAGTTAGCAAGTTCAACAACTTGGTATGCATTATTCGCTAGCTTCCATTGGTTACCTTCATCGTGCTTTTGAATAATAGTTGCAGGCTCTATTAAGTCATTAGATAAAATATCTCTTAGATTTATATTCATCGATGCTGATATGGTTTTAAGTTCATCAAGCGTTGATGAGGAACCATTTTCAATGTCATTTAATTTTTTTTCAGAAATTTCAGATCTTCTTGAAAGTTCTTCTAAAGATATACTGAAGCTGTTTCTAAAATATTTAATTAAAGAACCAATACCTTTTTCATAACTTGTAAAGTCTAATGCAAACTCACTTGCAGAAATTGGGTTAGAGATAGCTGCCAATTCTTGCTGAGCATCGCCGCTAAGACTGCTGCCAAATGTAAGAGCAAGAATAAGCCCAGGTTTTTTTGAGCCCGCCCTAGTGGTAAAAGAATGAGGTACAAATGGAGTTATGTAGCACGAATCCCCTGTATTCATAATGCCAACACACTTTTTTCCATTTTCATCAACATAATAGTAATTTACATCACCAATAAAATATGTGAATTGATGCATAAAATGCCCATTATTCCACTGTACAGATTTATTATTTGGATCATTATCATCAACAATACATAATTCCTCGATCCATTCTGGTCTAAATGTAGTAGATGAAGTTATGACAGTGTCACGATAATCATAATAGGGTTTTCCAGCCCTTTCCATTATTCTAGAGCTTTTATTTGAATCGGATGACCTCATAATTTTTATCCCGCTTGGACAATCATCTTTTATAACAAAGAAATCTCTCTCATTAATGGGCCACTTATCACATGCAGTTTTAATAAAGTCTGAGGATATTGGTTTTGTTCCTGATAAATAATCTTCTAAATCTTTAATATCAAAACCAAGTTCGTTTGCTGCATCTTCTGGTCGCCTTTTTAAATCATTTAATAAACCACGCAAATTATGAGCAGATTTTTTTAATTCAGCATCATTGGATTTCATTTAATAATTATTACATAAATCAATACAATTTTGAATAAAAATTAAACAAACAAAAAGTAATTTATTGAGCTAGATAGCCACCATCAACAGGCAAACATGCTCCAGTTATAAAAGATGCTTCATCAGATGCTAAAAATAAAGCAGCATATGCT\n"
     ]
    }
   ],
   "source": [
    "with open('assignment2a.txt') as sequence_file:\n",
    "    sequence_lines = sequence_file.readlines()[1:]\n",
    "\n",
    "sequence = \"\"\n",
    "for seq in sequence_lines:\n",
    "    sequence = sequence + seq.replace(\"\\n\", \"\")\n",
    "print(sequence)\n"
   ]
  },
  {
   "cell_type": "markdown",
   "metadata": {},
   "source": [
    "Assuming that the first nucleotide is the first in a sequence of dinucleotides [1,2], [3,4], [5,6], etc., here are the dinucleotides."
   ]
  },
  {
   "cell_type": "code",
   "execution_count": 26,
   "metadata": {
    "collapsed": false
   },
   "outputs": [
    {
     "name": "stdout",
     "output_type": "stream",
     "text": [
      "['AA', 'TT', 'CG', 'AA', 'GA', 'CA', 'TA', 'AT', 'AT', 'TT', 'TT', 'CC', 'AT', 'TA', 'CC', 'TC', 'TA', 'AA', 'AT', 'TA', 'TG', 'TT', 'TT', 'AA', 'GA', 'AA', 'GG', 'CT', 'TT', 'AT', 'AT', 'AG', 'CA', 'AG', 'AA', 'TC', 'AC', 'CG', 'GG', 'GT', 'AT', 'AA', 'TT', 'TC', 'TC', 'TT', 'TT', 'CC', 'GT', 'TT', 'TC', 'AA', 'AA', 'TT', 'AA', 'TT', 'GC', 'TA', 'AT', 'TC', 'CG', 'AA', 'TC', 'AC', 'CT', 'AT', 'AT', 'TA', 'TA', 'AA', 'TA', 'TA', 'CT', 'GA', 'TG', 'TA', 'AG', 'CC', 'AA', 'TA', 'TT', 'TT', 'GA', 'TC', 'AT', 'AG', 'TC', 'TT', 'CA', 'TG', 'AT', 'CA', 'GA', 'TT', 'CA', 'GA', 'AA', 'AA', 'AC', 'TG', 'AT', 'AT', 'TT', 'CT', 'AA', 'AC', 'TT', 'CT', 'TG', 'CA', 'TA', 'AG', 'GA', 'AG', 'AG', 'TA', 'GA', 'AG', 'AG', 'TT', 'AG', 'CA', 'AG', 'TT', 'CA', 'AC', 'AA', 'CT', 'TG', 'GT', 'AT', 'GC', 'AT', 'TA', 'TT', 'CG', 'CT', 'AG', 'CT', 'TC', 'CA', 'TT', 'GG', 'TT', 'AC', 'CT', 'TC', 'AT', 'CG', 'TG', 'CT', 'TT', 'TG', 'AA', 'TA', 'AT', 'AG', 'TT', 'GC', 'AG', 'GC', 'TC', 'TA', 'TT', 'AA', 'GT', 'CA', 'TT', 'AG', 'AT', 'AA', 'AA', 'TA', 'TC', 'TC', 'TT', 'AG', 'AT', 'TT', 'AT', 'AT', 'TC', 'AT', 'CG', 'AT', 'GC', 'TG', 'AT', 'AT', 'GG', 'TT', 'TT', 'AA', 'GT', 'TC', 'AT', 'CA', 'AG', 'CG', 'TT', 'GA', 'TG', 'AG', 'GA', 'AC', 'CA', 'TT', 'TT', 'CA', 'AT', 'GT', 'CA', 'TT', 'TA', 'AT', 'TT', 'TT', 'TT', 'TC', 'AG', 'AA', 'AT', 'TT', 'CA', 'GA', 'TC', 'TT', 'CT', 'TG', 'AA', 'AG', 'TT', 'CT', 'TC', 'TA', 'AA', 'GA', 'TA', 'TA', 'CT', 'GA', 'AG', 'CT', 'GT', 'TT', 'CT', 'AA', 'AA', 'TA', 'TT', 'TA', 'AT', 'TA', 'AA', 'GA', 'AC', 'CA', 'AT', 'AC', 'CT', 'TT', 'TT', 'CA', 'TA', 'AC', 'TT', 'GT', 'AA', 'AG', 'TC', 'TA', 'AT', 'GC', 'AA', 'AC', 'TC', 'AC', 'TT', 'GC', 'AG', 'AA', 'AT', 'TG', 'GG', 'TT', 'AG', 'AG', 'AT', 'AG', 'CT', 'GC', 'CA', 'AT', 'TC', 'TT', 'GC', 'TG', 'AG', 'CA', 'TC', 'GC', 'CG', 'CT', 'AA', 'GA', 'CT', 'GC', 'TG', 'CC', 'AA', 'AT', 'GT', 'AA', 'GA', 'GC', 'AA', 'GA', 'AT', 'AA', 'GC', 'CC', 'AG', 'GT', 'TT', 'TT', 'TT', 'GA', 'GC', 'CC', 'GC', 'CC', 'TA', 'GT', 'GG', 'TA', 'AA', 'AG', 'AA', 'TG', 'AG', 'GT', 'AC', 'AA', 'AT', 'GG', 'AG', 'TT', 'AT', 'GT', 'AG', 'CA', 'CG', 'AA', 'TC', 'CC', 'CT', 'GT', 'AT', 'TC', 'AT', 'AA', 'TG', 'CC', 'AA', 'CA', 'CA', 'CT', 'TT', 'TT', 'TC', 'CA', 'TT', 'TT', 'CA', 'TC', 'AA', 'CA', 'TA', 'AT', 'AG', 'TA', 'AT', 'TT', 'AC', 'AT', 'CA', 'CC', 'AA', 'TA', 'AA', 'AT', 'AT', 'GT', 'GA', 'AT', 'TG', 'AT', 'GC', 'AT', 'AA', 'AA', 'TG', 'CC', 'CA', 'TT', 'AT', 'TC', 'CA', 'CT', 'GT', 'AC', 'AG', 'AT', 'TT', 'AT', 'TA', 'TT', 'TG', 'GA', 'TC', 'AT', 'TA', 'TC', 'AT', 'CA', 'AC', 'AA', 'TA', 'CA', 'TA', 'AT', 'TC', 'CT', 'CG', 'AT', 'CC', 'AT', 'TC', 'TG', 'GT', 'CT', 'AA', 'AT', 'GT', 'AG', 'TA', 'GA', 'TG', 'AA', 'GT', 'TA', 'TG', 'AC', 'AG', 'TG', 'TC', 'AC', 'GA', 'TA', 'AT', 'CA', 'TA', 'AT', 'AG', 'GG', 'TT', 'TT', 'CC', 'AG', 'CC', 'CT', 'TT', 'CC', 'AT', 'TA', 'TT', 'CT', 'AG', 'AG', 'CT', 'TT', 'TA', 'TT', 'TG', 'AA', 'TC', 'GG', 'AT', 'GA', 'CC', 'TC', 'AT', 'AA', 'TT', 'TT', 'TA', 'TC', 'CC', 'GC', 'TT', 'GG', 'AC', 'AA', 'TC', 'AT', 'CT', 'TT', 'TA', 'TA', 'AC', 'AA', 'AG', 'AA', 'AT', 'CT', 'CT', 'CT', 'CA', 'TT', 'AA', 'TG', 'GG', 'CC', 'AC', 'TT', 'AT', 'CA', 'CA', 'TG', 'CA', 'GT', 'TT', 'TA', 'AT', 'AA', 'AG', 'TC', 'TG', 'AG', 'GA', 'TA', 'TT', 'GG', 'TT', 'TT', 'GT', 'TC', 'CT', 'GA', 'TA', 'AA', 'TA', 'AT', 'CT', 'TC', 'TA', 'AA', 'TC', 'TT', 'TA', 'AT', 'AT', 'CA', 'AA', 'AC', 'CA', 'AG', 'TT', 'CG', 'TT', 'TG', 'CT', 'GC', 'AT', 'CT', 'TC', 'TG', 'GT', 'CG', 'CC', 'TT', 'TT', 'TA', 'AA', 'TC', 'AT', 'TT', 'AA', 'TA', 'AA', 'CC', 'AC', 'GC', 'AA', 'AT', 'TA', 'TG', 'AG', 'CA', 'GA', 'TT', 'TT', 'TT', 'TA', 'AT', 'TC', 'AG', 'CA', 'TC', 'AT', 'TG', 'GA', 'TT', 'TC', 'AT', 'TT', 'AA', 'TA', 'AT', 'TA', 'TT', 'AC', 'AT', 'AA', 'AT', 'CA', 'AT', 'AC', 'AA', 'TT', 'TT', 'GA', 'AT', 'AA', 'AA', 'AT', 'TA', 'AA', 'CA', 'AA', 'CA', 'AA', 'AA', 'GT', 'AA', 'TT', 'TA', 'TT', 'GA', 'GC', 'TA', 'GA', 'TA', 'GC', 'CA', 'CC', 'AT', 'CA', 'AC', 'AG', 'GC', 'AA', 'AC', 'AT', 'GC', 'TC', 'CA', 'GT', 'TA', 'TA', 'AA', 'AG', 'AT', 'GC', 'TT', 'CA', 'TC', 'AG', 'AT', 'GC', 'TA', 'AA', 'AA', 'TA', 'AA', 'GC', 'AG', 'CA', 'TA', 'TG', 'CT']\n"
     ]
    }
   ],
   "source": [
    "def split_nucleotides(sequence, length):\n",
    "    return [sequence[i:i+length] for i in range(0, len(sequence), length)]\n",
    "\n",
    "dinucleotides = split_nucleotides(sequence = sequence, length = 2)\n",
    "print(dinucleotides)"
   ]
  },
  {
   "cell_type": "markdown",
   "metadata": {},
   "source": [
    "The frequencies of dinucleotides are:"
   ]
  },
  {
   "cell_type": "code",
   "execution_count": 34,
   "metadata": {
    "collapsed": false
   },
   "outputs": [
    {
     "name": "stdout",
     "output_type": "stream",
     "text": [
      "There are 79 AAs\n",
      "There are 87 ATs\n",
      "There are 50 AGs\n",
      "There are 27 ACs\n",
      "There are 65 TAs\n",
      "There are 94 TTs\n",
      "There are 32 TGs\n",
      "There are 48 TCs\n",
      "There are 30 GAs\n",
      "There are 24 GTs\n",
      "There are 12 GGs\n",
      "There are 26 GCs\n",
      "There are 47 CAs\n",
      "There are 36 CTs\n",
      "There are 12 CGs\n",
      "There are 22 CCs\n"
     ]
    }
   ],
   "source": [
    "for dinucleotide in make_nucleotide_combos(2):\n",
    "    total = []\n",
    "    for i in dinucleotides:\n",
    "        total.append(i == dinucleotide)\n",
    "    print(\"There are \" + str(sum(total)) + \" \" + dinucleotide + \"s\")"
   ]
  },
  {
   "cell_type": "markdown",
   "metadata": {},
   "source": [
    "If the frame doesn't matter, then this is the frequency of dinucleotides at any position in the sequence."
   ]
  },
  {
   "cell_type": "code",
   "execution_count": 42,
   "metadata": {
    "collapsed": false
   },
   "outputs": [
    {
     "name": "stdout",
     "output_type": "stream",
     "text": [
      "There are 124 AAs\n",
      "There are 172 ATs\n",
      "There are 78 AGs\n",
      "There are 47 ACs\n",
      "There are 127 TAs\n",
      "There are 135 TTs\n",
      "There are 72 TGs\n",
      "There are 93 TCs\n",
      "There are 67 GAs\n",
      "There are 49 GTs\n",
      "There are 25 GGs\n",
      "There are 53 GCs\n",
      "There are 102 CAs\n",
      "There are 72 CTs\n",
      "There are 19 CGs\n",
      "There are 40 CCs\n"
     ]
    }
   ],
   "source": [
    "for dinucleotide in make_nucleotide_combos(2):\n",
    "    print(\"There are \" + str(sequence.count(dinucleotide)) + \" \" + dinucleotide + \"s\")"
   ]
  },
  {
   "cell_type": "markdown",
   "metadata": {},
   "source": [
    "If the beginning of the sequence starts the frame for codons, then the frequencies of codons are"
   ]
  },
  {
   "cell_type": "code",
   "execution_count": 35,
   "metadata": {
    "collapsed": false
   },
   "outputs": [
    {
     "name": "stdout",
     "output_type": "stream",
     "text": [
      "There are 18 AAAs\n",
      "There are 23 AATs\n",
      "There are 14 AAGs\n",
      "There are 9 AACs\n",
      "There are 16 ATAs\n",
      "There are 29 ATTs\n",
      "There are 11 ATGs\n",
      "There are 27 ATCs\n",
      "There are 17 AGAs\n",
      "There are 8 AGTs\n",
      "There are 5 AGGs\n",
      "There are 8 AGCs\n",
      "There are 8 ACAs\n",
      "There are 5 ACTs\n",
      "There are 2 ACGs\n",
      "There are 10 ACCs\n",
      "There are 23 TAAs\n",
      "There are 14 TATs\n",
      "There are 2 TAGs\n",
      "There are 3 TACs\n",
      "There are 2 TTAs\n",
      "There are 25 TTTs\n",
      "There are 7 TTGs\n",
      "There are 23 TTCs\n",
      "There are 11 TGAs\n",
      "There are 6 TGTs\n",
      "There are 7 TGGs\n",
      "There are 11 TGCs\n",
      "There are 0 TCAs\n",
      "There are 9 TCTs\n",
      "There are 2 TCGs\n",
      "There are 5 TCCs\n",
      "There are 4 GAAs\n",
      "There are 3 GATs\n",
      "There are 1 GAGs\n",
      "There are 1 GACs\n",
      "There are 4 GTAs\n",
      "There are 6 GTTs\n",
      "There are 1 GTGs\n",
      "There are 6 GTCs\n",
      "There are 4 GGAs\n",
      "There are 2 GGTs\n",
      "There are 3 GGGs\n",
      "There are 0 GGCs\n",
      "There are 3 GCAs\n",
      "There are 5 GCTs\n",
      "There are 0 GCGs\n",
      "There are 5 GCCs\n",
      "There are 3 CAAs\n",
      "There are 9 CATs\n",
      "There are 4 CAGs\n",
      "There are 1 CACs\n",
      "There are 2 CTAs\n",
      "There are 6 CTTs\n",
      "There are 3 CTGs\n",
      "There are 6 CTCs\n",
      "There are 3 CGAs\n",
      "There are 1 CGTs\n",
      "There are 0 CGGs\n",
      "There are 2 CGCs\n",
      "There are 4 CCAs\n",
      "There are 4 CCTs\n",
      "There are 0 CCGs\n",
      "There are 4 CCCs\n"
     ]
    }
   ],
   "source": [
    "codons = split_nucleotides(sequence = sequence, length = 3)\n",
    "\n",
    "for codon in make_nucleotide_combos(3):\n",
    "    total = []\n",
    "    for i in codons:\n",
    "        total.append(i == codon)\n",
    "    print(\"There are \" + str(sum(total)) + \" \" + codon + \"s\")"
   ]
  },
  {
   "cell_type": "markdown",
   "metadata": {},
   "source": [
    "Read in codons.csv file to make a dictionary of codons and maching amino acids."
   ]
  },
  {
   "cell_type": "code",
   "execution_count": 55,
   "metadata": {
    "collapsed": false
   },
   "outputs": [
    {
     "name": "stdout",
     "output_type": "stream",
     "text": [
      "{'ATT': 'I', 'ATC': 'I', 'ATA': 'I', 'CTT': 'L', 'CTC': 'L', 'CTA': 'L', 'CTG': 'L', 'TTA': 'L', 'TTG': 'L', 'GTT': 'V', 'GTC': 'V', 'GTA': 'V', 'GTG': 'V', 'TTT': 'F', 'TTC': 'F', 'ATG': 'M', 'TGT': 'C', 'TGC': 'C', 'GCT': 'A', 'GCC': 'A', 'GCA': 'A', 'GCG': 'A', 'GGT': 'G', 'GGC': 'G', 'GGA': 'G', 'GGG': 'G', 'CCT': 'P', 'CCC': 'P', 'CCA': 'P', 'CCG': 'P', 'ACT': 'T', 'ACC': 'T', 'ACA': 'T', 'ACG': 'T', 'TCT': 'S', 'TCC': 'S', 'TCA': 'S', 'TCG': 'S', 'AGT': 'S', 'AGC': 'S', 'TAT': 'Y', 'TAC': 'Y', 'TGG': 'W', 'CAA': 'Q', 'CAG': 'Q', 'AAT': 'N', 'AAC': 'N', 'CAT': 'H', 'CAC': 'H', 'GAA': 'E', 'GAG': 'E', 'GAT': 'D', 'GAC': 'D', 'AAA': 'K', 'AAG': 'K', 'CGT': 'R', 'CGC': 'R', 'CGA': 'R', 'CGG': 'R', 'AGA': 'R', 'AGG': 'R', 'TAA': 'Stop', 'TAG': 'Stop', 'TGA': 'Stop'}\n"
     ]
    }
   ],
   "source": [
    "with open('codons.csv') as codon_file:\n",
    "    codon_lines = codon_file.readlines()[1:]\n",
    "    \n",
    "codon_dict = {}\n",
    "for line in codon_lines:\n",
    "    line = line.split(\",\")\n",
    "    codon_dict[line[2].replace(\"\\n\", \"\")] =  line[1]\n",
    "\n",
    "print(codon_dict)"
   ]
  },
  {
   "cell_type": "markdown",
   "metadata": {
    "collapsed": false
   },
   "source": [
    "Translate the DNA sequence to proteins."
   ]
  },
  {
   "cell_type": "code",
   "execution_count": 56,
   "metadata": {
    "collapsed": false
   },
   "outputs": [
    {
     "name": "stdout",
     "output_type": "stream",
     "text": [
      "['AAT', 'TCG', 'AAG', 'ACA', 'TAA', 'TAT', 'TTT', 'TCC', 'ATT', 'ACC', 'TCT', 'AAA', 'ATT', 'ATG', 'TTT', 'TAA', 'GAA', 'AGG', 'CTT', 'TAT', 'ATA', 'GCA', 'AGA', 'ATC', 'ACC', 'GGG', 'GTA', 'TAA', 'TTT', 'CTC', 'TTT', 'TCC', 'GTT', 'TTC', 'AAA', 'ATT', 'AAT', 'TGC', 'TAA', 'TTC', 'CGA', 'ATC', 'ACC', 'TAT', 'ATT', 'ATA', 'AAT', 'ATA', 'CTG', 'ATG', 'TAA', 'GCC', 'AAT', 'ATT', 'TTG', 'ATC', 'ATA', 'GTC', 'TTC', 'ATG', 'ATC', 'AGA', 'TTC', 'AGA', 'AAA', 'AAC', 'TGA', 'TAT', 'TTC', 'TAA', 'ACT', 'TCT', 'TGC', 'ATA', 'AGG', 'AAG', 'AGT', 'AGA', 'AGA', 'GTT', 'AGC', 'AAG', 'TTC', 'AAC', 'AAC', 'TTG', 'GTA', 'TGC', 'ATT', 'ATT', 'CGC', 'TAG', 'CTT', 'CCA', 'TTG', 'GTT', 'ACC', 'TTC', 'ATC', 'GTG', 'CTT', 'TTG', 'AAT', 'AAT', 'AGT', 'TGC', 'AGG', 'CTC', 'TAT', 'TAA', 'GTC', 'ATT', 'AGA', 'TAA', 'AAT', 'ATC', 'TCT', 'TAG', 'ATT', 'TAT', 'ATT', 'CAT', 'CGA', 'TGC', 'TGA', 'TAT', 'GGT', 'TTT', 'AAG', 'TTC', 'ATC', 'AAG', 'CGT', 'TGA', 'TGA', 'GGA', 'ACC', 'ATT', 'TTC', 'AAT', 'GTC', 'ATT', 'TAA', 'TTT', 'TTT', 'TTC', 'AGA', 'AAT', 'TTC', 'AGA', 'TCT', 'TCT', 'TGA', 'AAG', 'TTC', 'TTC', 'TAA', 'AGA', 'TAT', 'ACT', 'GAA', 'GCT', 'GTT', 'TCT', 'AAA', 'ATA', 'TTT', 'AAT', 'TAA', 'AGA', 'ACC', 'AAT', 'ACC', 'TTT', 'TTC', 'ATA', 'ACT', 'TGT', 'AAA', 'GTC', 'TAA', 'TGC', 'AAA', 'CTC', 'ACT', 'TGC', 'AGA', 'AAT', 'TGG', 'GTT', 'AGA', 'GAT', 'AGC', 'TGC', 'CAA', 'TTC', 'TTG', 'CTG', 'AGC', 'ATC', 'GCC', 'GCT', 'AAG', 'ACT', 'GCT', 'GCC', 'AAA', 'TGT', 'AAG', 'AGC', 'AAG', 'AAT', 'AAG', 'CCC', 'AGG', 'TTT', 'TTT', 'TGA', 'GCC', 'CGC', 'CCT', 'AGT', 'GGT', 'AAA', 'AGA', 'ATG', 'AGG', 'TAC', 'AAA', 'TGG', 'AGT', 'TAT', 'GTA', 'GCA', 'CGA', 'ATC', 'CCC', 'TGT', 'ATT', 'CAT', 'AAT', 'GCC', 'AAC', 'ACA', 'CTT', 'TTT', 'TCC', 'ATT', 'TTC', 'ATC', 'AAC', 'ATA', 'ATA', 'GTA', 'ATT', 'TAC', 'ATC', 'ACC', 'AAT', 'AAA', 'ATA', 'TGT', 'GAA', 'TTG', 'ATG', 'CAT', 'AAA', 'ATG', 'CCC', 'ATT', 'ATT', 'CCA', 'CTG', 'TAC', 'AGA', 'TTT', 'ATT', 'ATT', 'TGG', 'ATC', 'ATT', 'ATC', 'ATC', 'AAC', 'AAT', 'ACA', 'TAA', 'TTC', 'CTC', 'GAT', 'CCA', 'TTC', 'TGG', 'TCT', 'AAA', 'TGT', 'AGT', 'AGA', 'TGA', 'AGT', 'TAT', 'GAC', 'AGT', 'GTC', 'ACG', 'ATA', 'ATC', 'ATA', 'ATA', 'GGG', 'TTT', 'TCC', 'AGC', 'CCT', 'TTC', 'CAT', 'TAT', 'TCT', 'AGA', 'GCT', 'TTT', 'ATT', 'TGA', 'ATC', 'GGA', 'TGA', 'CCT', 'CAT', 'AAT', 'TTT', 'TAT', 'CCC', 'GCT', 'TGG', 'ACA', 'ATC', 'ATC', 'TTT', 'TAT', 'AAC', 'AAA', 'GAA', 'ATC', 'TCT', 'CTC', 'ATT', 'AAT', 'GGG', 'CCA', 'CTT', 'ATC', 'ACA', 'TGC', 'AGT', 'TTT', 'AAT', 'AAA', 'GTC', 'TGA', 'GGA', 'TAT', 'TGG', 'TTT', 'TGT', 'TCC', 'TGA', 'TAA', 'ATA', 'ATC', 'TTC', 'TAA', 'ATC', 'TTT', 'AAT', 'ATC', 'AAA', 'ACC', 'AAG', 'TTC', 'GTT', 'TGC', 'TGC', 'ATC', 'TTC', 'TGG', 'TCG', 'CCT', 'TTT', 'TAA', 'ATC', 'ATT', 'TAA', 'TAA', 'ACC', 'ACG', 'CAA', 'ATT', 'ATG', 'AGC', 'AGA', 'TTT', 'TTT', 'TAA', 'TTC', 'AGC', 'ATC', 'ATT', 'GGA', 'TTT', 'CAT', 'TTA', 'ATA', 'ATT', 'ATT', 'ACA', 'TAA', 'ATC', 'AAT', 'ACA', 'ATT', 'TTG', 'AAT', 'AAA', 'AAT', 'TAA', 'ACA', 'AAC', 'AAA', 'AAG', 'TAA', 'TTT', 'ATT', 'GAG', 'CTA', 'GAT', 'AGC', 'CAC', 'CAT', 'CAA', 'CAG', 'GCA', 'AAC', 'ATG', 'CTC', 'CAG', 'TTA', 'TAA', 'AAG', 'ATG', 'CTT', 'CAT', 'CAG', 'ATG', 'CTA', 'AAA', 'ATA', 'AAG', 'CAG', 'CAT', 'ATG', 'CT']\n"
     ]
    }
   ],
   "source": [
    "codons = split_nucleotides(sequence = sequence, length = 3)\n",
    "print(codons)"
   ]
  },
  {
   "cell_type": "code",
   "execution_count": 61,
   "metadata": {
    "collapsed": false
   },
   "outputs": [
    {
     "name": "stdout",
     "output_type": "stream",
     "text": [
      "NSKTStopYFSITSKIMFStopERLYIARITGVStopFLFSVFKINCStopFRITYIINILMStopANILIIVFMIRFRKNStopYFStopTSCIRKSRRVSKFNNLVCIIRStopLPLVTFIVLLNNSCRLYStopVIRStopNISStopIYIHRCStopYGFKFIKRStopStopGTIFNVIStopFFFRNFRSSStopKFFStopRYTEAVSKIFNStopRTNTFFITCKVStopCKLTCRNWVRDSCQFLLSIAAKTAAKCKSKNKPRFFStopARPSGKRMRYKWSYVARIPCIHNANTLFSIFINIIVIYITNKICELMHKMPIIPLYRFIIWIIIINNTStopFLDPFWSKCSRStopSYDSVTIIIIGFSSPFHYSRAFIStopIGStopPHNFYPAWTIIFYNKEISLINGPLITCSFNKVStopGYWFCSStopStopIIFStopIFNIKTKFVCCIFWSPFStopIIStopStopTTQIMSRFFStopFSIIGFHLIIITStopINTILNKNStopTNKKStopFIELDSHHQQANMLQLStopKMLHQMLKIKQHM\n"
     ]
    }
   ],
   "source": [
    "protein_sequence = \"\"\n",
    "for codon in codons:\n",
    "    if len(codon) == 3:\n",
    "        protein_sequence = protein_sequence + codon_dict[codon]\n",
    "    \n",
    "print(protein_sequence)"
   ]
  }
 ],
 "metadata": {
  "kernelspec": {
   "display_name": "Python 3.6",
   "language": "python",
   "name": "python3.6"
  },
  "language_info": {
   "codemirror_mode": {
    "name": "ipython",
    "version": 3
   },
   "file_extension": ".py",
   "mimetype": "text/x-python",
   "name": "python",
   "nbconvert_exporter": "python",
   "pygments_lexer": "ipython3",
   "version": "3.6.0"
  }
 },
 "nbformat": 4,
 "nbformat_minor": 0
}
